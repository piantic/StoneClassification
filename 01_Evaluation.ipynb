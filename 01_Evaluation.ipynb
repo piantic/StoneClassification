{
 "cells": [
  {
   "cell_type": "code",
   "execution_count": 1,
   "metadata": {},
   "outputs": [
    {
     "name": "stdout",
     "output_type": "stream",
     "text": [
      "1 Physical GPUs, 1 Logical GPUs\n"
     ]
    }
   ],
   "source": [
    "import os\n",
    "import seaborn\n",
    "import cv2 as cv\n",
    "import numpy as np\n",
    "import tensorflow as tf\n",
    "from sklearn import metrics\n",
    "from matplotlib import pyplot as plt\n",
    "from matplotlib import font_manager as fm\n",
    "\n",
    "from tensorflow.keras import models, layers, losses, optimizers\n",
    "from tensorflow.keras.preprocessing.image import ImageDataGenerator\n",
    "\n",
    "tf.random.set_seed(777)\n",
    "\n",
    "gpus = tf.config.experimental.list_physical_devices('GPU')\n",
    "if gpus:\n",
    "    try:\n",
    "        for gpu in gpus:\n",
    "            tf.config.experimental.set_memory_growth(gpu, True)\n",
    "        logical_gpus = tf.config.experimental.list_logical_devices('GPU')\n",
    "        print(len(gpus), \"Physical GPUs,\", len(logical_gpus), \"Logical GPUs\")\n",
    "    except RuntimeError as e:\n",
    "        print(e)"
   ]
  },
  {
   "cell_type": "code",
   "execution_count": 2,
   "metadata": {},
   "outputs": [
    {
     "name": "stdout",
     "output_type": "stream",
     "text": [
      "Found 1657 images belonging to 2 classes.\n",
      "학습용 황동석 이미지 수: 712\n",
      "학습용 황동석 아닌 이미지 수: 945\n",
      "\n",
      "Found 184 images belonging to 2 classes.\n",
      "검증용 황동석 이미지 수: 79\n",
      "검증용 황동석 아닌 이미지 수: 105\n"
     ]
    }
   ],
   "source": [
    "train_generator = ImageDataGenerator(rescale=1/255.)\n",
    "valid_generator = ImageDataGenerator(rescale=1/255.)\n",
    "\n",
    "IMG_SIZE = 224\n",
    "\n",
    "train_loader = train_generator.flow_from_directory('./data/Train', target_size=(IMG_SIZE,IMG_SIZE), \n",
    "                                                 classes=['etc', 'chalcopyrite'],\n",
    "                                                 class_mode='binary', \n",
    "                                                )\n",
    "print(f\"학습용 황동석 이미지 수: {(train_loader.labels==1).sum()}\")\n",
    "print(f\"학습용 황동석 아닌 이미지 수: {(train_loader.labels==0).sum()}\\n\")\n",
    "\n",
    "valid_loader = valid_generator.flow_from_directory('./data/Test', target_size=(IMG_SIZE,IMG_SIZE), \n",
    "                                                 classes=['etc', 'chalcopyrite'],\n",
    "                                                 class_mode='binary'\n",
    "                                                )\n",
    "print(f\"검증용 황동석 이미지 수: {(valid_loader.labels==1).sum()}\")\n",
    "print(f\"검증용 황동석 아닌 이미지 수: {(valid_loader.labels==0).sum()}\")"
   ]
  },
  {
   "cell_type": "markdown",
   "metadata": {},
   "source": [
    "### Load model"
   ]
  },
  {
   "cell_type": "code",
   "execution_count": 3,
   "metadata": {},
   "outputs": [],
   "source": [
    "model_name = 'mobilenet'\n",
    "model = models.load_model(f'./checkpoints/{model_name}.h5')"
   ]
  },
  {
   "cell_type": "markdown",
   "metadata": {},
   "source": [
    "### Evaluate model"
   ]
  },
  {
   "cell_type": "code",
   "execution_count": 4,
   "metadata": {},
   "outputs": [
    {
     "name": "stdout",
     "output_type": "stream",
     "text": [
      "52/52 [==============================] - 7s 135ms/step\n",
      "6/6 [==============================] - 1s 118ms/step\n"
     ]
    }
   ],
   "source": [
    "train_infer = model.predict(train_loader, verbose=1)\n",
    "valid_infer = model.predict(valid_loader, verbose=1)"
   ]
  },
  {
   "cell_type": "markdown",
   "metadata": {},
   "source": [
    "### Plot evaluation result"
   ]
  },
  {
   "cell_type": "code",
   "execution_count": 5,
   "metadata": {},
   "outputs": [],
   "source": [
    "threshold = 0.5\n",
    "\n",
    "train_infer = np.greater_equal(train_infer[:, 0], threshold).astype(np.int32)\n",
    "valid_infer = np.greater_equal(valid_infer[:, 0], threshold).astype(np.int32)\n",
    "\n",
    "train_cf = metrics.confusion_matrix(train_loader.labels, train_infer)\n",
    "valid_cf = metrics.confusion_matrix(valid_loader.labels, valid_infer)"
   ]
  },
  {
   "cell_type": "code",
   "execution_count": 6,
   "metadata": {},
   "outputs": [],
   "source": [
    "def plot_confusion_matrix(data, labels):\n",
    "\n",
    "    seaborn.set(color_codes=True)\n",
    " \n",
    "    plt.title(\"Confusion Matrix\")\n",
    " \n",
    "    seaborn.set(font_scale=1)\n",
    "    ax = seaborn.heatmap(data, annot=True, fmt=\"d\", cmap=\"YlGnBu\", cbar_kws={'label': 'Scale'})\n",
    " \n",
    "    ax.set_xticklabels(labels)\n",
    "    ax.set_yticklabels(labels)\n",
    " \n",
    "    ax.set(ylabel=\"True Label\", xlabel=\"Predicted Label\")"
   ]
  },
  {
   "cell_type": "code",
   "execution_count": 8,
   "metadata": {},
   "outputs": [
    {
     "data": {
      "image/png": "[encoded data removed]",
      "text/plain": [
       "<Figure size 864x288 with 4 Axes>"
      ]
     },
     "metadata": {},
     "output_type": "display_data"
    }
   ],
   "source": [
    "plt.figure(figsize=(12, 4))\n",
    "plt.subplot(1, 2, 1)\n",
    "plot_confusion_matrix(train_cf, ['etc', 'chalcopyrite'])\n",
    "\n",
    "plt.subplot(1, 2, 2)\n",
    "plot_confusion_matrix(valid_cf, ['etc', 'chalcopyrite'])\n",
    "\n",
    "plt.savefig(f\"./figures/{model_name}_confusion_matrix.jpg\")\n",
    "plt.show()"
   ]
  }
 ],
 "metadata": {
  "kernelspec": {
   "display_name": "Python 3",
   "language": "python",
   "name": "python3"
  },
  "language_info": {
   "codemirror_mode": {
    "name": "ipython",
    "version": 3
   },
   "file_extension": ".py",
   "mimetype": "text/x-python",
   "name": "python",
   "nbconvert_exporter": "python",
   "pygments_lexer": "ipython3",
   "version": "3.7.7"
  }
 },
 "nbformat": 4,
 "nbformat_minor": 4
}
