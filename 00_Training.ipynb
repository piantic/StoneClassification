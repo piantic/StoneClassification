{
 "cells": [
  {
   "cell_type": "markdown",
   "metadata": {},
   "source": [
    "# Stone Classifier"
   ]
  },
  {
   "cell_type": "markdown",
   "metadata": {},
   "source": [
    "### Packge Load"
   ]
  },
  {
   "cell_type": "code",
   "execution_count": 1,
   "metadata": {},
   "outputs": [
    {
     "name": "stdout",
     "output_type": "stream",
     "text": [
      "1 Physical GPUs, 1 Logical GPUs\n"
     ]
    }
   ],
   "source": [
    "import os\n",
    "import cv2 as cv\n",
    "import numpy as np\n",
    "import tensorflow as tf\n",
    "from matplotlib import pyplot as plt\n",
    "from matplotlib import font_manager as fm\n",
    "\n",
    "from tensorflow.keras import models, layers, losses, optimizers\n",
    "from tensorflow.keras.preprocessing.image import ImageDataGenerator\n",
    "from tensorflow.keras.applications import DenseNet121, DenseNet169, DenseNet201\n",
    "from tensorflow.keras.applications import VGG16, VGG19, Xception, InceptionResNetV2, InceptionV3\n",
    "from tensorflow.keras.applications import MobileNet, MobileNetV2, NASNetLarge, NASNetMobile\n",
    "from tensorflow.keras.applications import ResNet50, ResNet101, ResNet152, ResNet50V2, ResNet101V2, ResNet152V2\n",
    "from tensorflow.keras.applications import EfficientNetB0, EfficientNetB1, EfficientNetB2, EfficientNetB3\n",
    "from tensorflow.keras.applications import EfficientNetB4, EfficientNetB5, EfficientNetB6, EfficientNetB7\n",
    "model_dict = {\n",
    "    \"vgg16\": VGG16, \n",
    "    \"vgg19\": VGG19,\n",
    "    \"resnet50\": ResNet50,\n",
    "    \"resnet101\": ResNet101,\n",
    "    \"resnet152\": ResNet152,\n",
    "    \"resnet50v2\": ResNet50V2,\n",
    "    \"resnet101v2\": ResNet101V2,\n",
    "    \"resnet152v2\": ResNet152V2,\n",
    "    \"densenet121\": DenseNet121,\n",
    "    \"densenet169\": DenseNet169,\n",
    "    \"densenet201\": DenseNet201,\n",
    "    \"mobilenet\": MobileNet,\n",
    "    \"mobilenetv2\": MobileNetV2,\n",
    "    \"xception\": Xception,\n",
    "    \"inceptionresnetv2\": InceptionResNetV2,\n",
    "    \"inceptionv3\": InceptionV3, \n",
    "    \"nasnetlarge\": NASNetLarge,\n",
    "    \"nasnetmobile\": NASNetMobile,\n",
    "    \"efficientnetb0\": EfficientNetB0,\n",
    "    \"efficientnetb1\": EfficientNetB1,\n",
    "    \"efficientnetb2\": EfficientNetB2,\n",
    "    \"efficientnetb3\": EfficientNetB3,\n",
    "    \"efficientnetb4\": EfficientNetB4,\n",
    "    \"efficientnetb5\": EfficientNetB5,\n",
    "    \"efficientnetb6\": EfficientNetB6,\n",
    "    \"efficientnetb7\": EfficientNetB7,\n",
    "}\n",
    "\n",
    "tf.random.set_seed(777)\n",
    "\n",
    "gpus = tf.config.experimental.list_physical_devices('GPU')\n",
    "if gpus:\n",
    "    try:\n",
    "        for gpu in gpus:\n",
    "            tf.config.experimental.set_memory_growth(gpu, True)\n",
    "        logical_gpus = tf.config.experimental.list_logical_devices('GPU')\n",
    "        print(len(gpus), \"Physical GPUs,\", len(logical_gpus), \"Logical GPUs\")\n",
    "    except RuntimeError as e:\n",
    "        print(e)"
   ]
  },
  {
   "cell_type": "markdown",
   "metadata": {},
   "source": [
    "### Prepare Dataset"
   ]
  },
  {
   "cell_type": "code",
   "execution_count": 2,
   "metadata": {},
   "outputs": [
    {
     "name": "stdout",
     "output_type": "stream",
     "text": [
      "Found 1697 images belonging to 2 classes.\n",
      "학습용 황동석 이미지 수: 712\n",
      "학습용 황동석 아닌 이미지 수: 985\n",
      "\n",
      "Found 210 images belonging to 2 classes.\n",
      "검증용 황동석 이미지 수: 79\n",
      "검증용 황동석 아닌 이미지 수: 131\n"
     ]
    }
   ],
   "source": [
    "train_generator = ImageDataGenerator(rescale=1/255.)\n",
    "valid_generator = ImageDataGenerator(rescale=1/255.)\n",
    "\n",
    "IMG_SIZE = 224\n",
    "\n",
    "train_loader = train_generator.flow_from_directory('./data/Train', target_size=(IMG_SIZE,IMG_SIZE), \n",
    "                                                 classes=['etc', 'chalcopyrite'],\n",
    "                                                 class_mode='binary', shuffle=True, \n",
    "                                                )\n",
    "print(f\"학습용 황동석 이미지 수: {(train_loader.labels==1).sum()}\")\n",
    "print(f\"학습용 황동석 아닌 이미지 수: {(train_loader.labels==0).sum()}\\n\")\n",
    "\n",
    "valid_loader = valid_generator.flow_from_directory('./data/Test', target_size=(IMG_SIZE,IMG_SIZE), \n",
    "                                                 classes=['etc', 'chalcopyrite'],\n",
    "                                                 class_mode='binary'\n",
    "                                                )\n",
    "print(f\"검증용 황동석 이미지 수: {(valid_loader.labels==1).sum()}\")\n",
    "print(f\"검증용 황동석 아닌 이미지 수: {(valid_loader.labels==0).sum()}\")"
   ]
  },
  {
   "cell_type": "markdown",
   "metadata": {},
   "source": [
    "### Build Network"
   ]
  },
  {
   "cell_type": "code",
   "execution_count": 7,
   "metadata": {},
   "outputs": [],
   "source": [
    "model_name = 'vgg16'\n",
    "base_model = model_dict[model_name](weights=\"imagenet\", pooling=\"avg\", include_top=False)\n",
    "base_model.trainable = False\n",
    "dropout = layers.Dropout(0.5)(base_model.output)\n",
    "output = layers.Dense(1, activation='sigmoid')(dropout)\n",
    "model = models.Model(base_model.inputs, output)\n",
    "\n",
    "model.compile(optimizer='adam', loss='binary_crossentropy', metrics=['acc'])"
   ]
  },
  {
   "cell_type": "markdown",
   "metadata": {},
   "source": [
    "### Train Model"
   ]
  },
  {
   "cell_type": "code",
   "execution_count": 8,
   "metadata": {},
   "outputs": [
    {
     "name": "stdout",
     "output_type": "stream",
     "text": [
      "Epoch 1/20\n",
      "54/54 [==============================] - 33s 608ms/step - loss: 0.6530 - acc: 0.6064 - val_loss: 0.5062 - val_acc: 0.9095\n",
      "Epoch 2/20\n",
      "54/54 [==============================] - 5s 92ms/step - loss: 0.4699 - acc: 0.8161 - val_loss: 0.3935 - val_acc: 0.9190\n",
      "Epoch 3/20\n",
      "54/54 [==============================] - 5s 93ms/step - loss: 0.3517 - acc: 0.9322 - val_loss: 0.3206 - val_acc: 0.9571\n",
      "Epoch 4/20\n",
      "54/54 [==============================] - 5s 89ms/step - loss: 0.2889 - acc: 0.9570 - val_loss: 0.2786 - val_acc: 0.9286\n",
      "Epoch 5/20\n",
      "54/54 [==============================] - 5s 90ms/step - loss: 0.2393 - acc: 0.9676 - val_loss: 0.2400 - val_acc: 0.9571\n",
      "Epoch 6/20\n",
      "54/54 [==============================] - 5s 90ms/step - loss: 0.2129 - acc: 0.9670 - val_loss: 0.2172 - val_acc: 0.9571\n",
      "Epoch 7/20\n",
      "54/54 [==============================] - 5s 90ms/step - loss: 0.1909 - acc: 0.9699 - val_loss: 0.1976 - val_acc: 0.9571\n",
      "Epoch 8/20\n",
      "54/54 [==============================] - 5s 90ms/step - loss: 0.1719 - acc: 0.9688 - val_loss: 0.1821 - val_acc: 0.9714\n",
      "Epoch 9/20\n",
      "54/54 [==============================] - 5s 90ms/step - loss: 0.1586 - acc: 0.9694 - val_loss: 0.1699 - val_acc: 0.9810\n",
      "Epoch 10/20\n",
      "54/54 [==============================] - 5s 88ms/step - loss: 0.1478 - acc: 0.9741 - val_loss: 0.1575 - val_acc: 0.9857\n",
      "Epoch 11/20\n",
      "54/54 [==============================] - 5s 89ms/step - loss: 0.1392 - acc: 0.9705 - val_loss: 0.1441 - val_acc: 0.9905\n",
      "Epoch 12/20\n",
      "54/54 [==============================] - 5s 88ms/step - loss: 0.1307 - acc: 0.9705 - val_loss: 0.1364 - val_acc: 0.9905\n",
      "Epoch 13/20\n",
      "54/54 [==============================] - 5s 90ms/step - loss: 0.1234 - acc: 0.9758 - val_loss: 0.1271 - val_acc: 0.9905\n",
      "Epoch 14/20\n",
      "54/54 [==============================] - 5s 90ms/step - loss: 0.1157 - acc: 0.9776 - val_loss: 0.1215 - val_acc: 0.9905\n",
      "Epoch 15/20\n",
      "54/54 [==============================] - 5s 90ms/step - loss: 0.1062 - acc: 0.9788 - val_loss: 0.1172 - val_acc: 0.9905\n",
      "Epoch 16/20\n",
      "54/54 [==============================] - 5s 89ms/step - loss: 0.1017 - acc: 0.9764 - val_loss: 0.1060 - val_acc: 0.9905\n",
      "Epoch 17/20\n",
      "54/54 [==============================] - 5s 90ms/step - loss: 0.1073 - acc: 0.9764 - val_loss: 0.1068 - val_acc: 0.9905\n",
      "Epoch 18/20\n",
      "54/54 [==============================] - 5s 94ms/step - loss: 0.0988 - acc: 0.9770 - val_loss: 0.0997 - val_acc: 0.9905\n",
      "Epoch 19/20\n",
      "54/54 [==============================] - 5s 92ms/step - loss: 0.0927 - acc: 0.9806 - val_loss: 0.0957 - val_acc: 0.9905\n",
      "Epoch 20/20\n",
      "54/54 [==============================] - 5s 94ms/step - loss: 0.0892 - acc: 0.9806 - val_loss: 0.0918 - val_acc: 0.9905\n"
     ]
    }
   ],
   "source": [
    "history = model.fit(train_loader, epochs=20, validation_data=valid_loader)\n"
   ]
  },
  {
   "cell_type": "code",
   "execution_count": 9,
   "metadata": {},
   "outputs": [],
   "source": [
    "model.save(f'./checkpoints/{model_name}.h5')"
   ]
  },
  {
   "cell_type": "code",
   "execution_count": 10,
   "metadata": {},
   "outputs": [
    {
     "data": {
      "image/png": "[encoded data removed]",
      "text/plain": [
       "<Figure size 1008x288 with 2 Axes>"
      ]
     },
     "metadata": {
      "needs_background": "light"
     },
     "output_type": "display_data"
    }
   ],
   "source": [
    "path = './fonts/NanumBarunGothic.ttf'\n",
    "fontprop = fm.FontProperties(fname=path, size=12)\n",
    "\n",
    "plt.figure(figsize=(14, 4))\n",
    "plt.subplot(1, 2, 1)\n",
    "plt.plot(history.history['loss'])\n",
    "plt.plot(history.history['val_loss'])\n",
    "plt.legend(['학습 데이터', '검증 데이터'], loc=0, prop=fontprop)\n",
    "plt.title(\"손실 함수 그래프\", fontproperties=fontprop)\n",
    "\n",
    "plt.subplot(1, 2, 2)\n",
    "plt.plot(history.history['acc'])\n",
    "plt.plot(history.history['val_acc'])\n",
    "plt.legend(['학습 데이터', '검증 데이터'], loc=0,  prop=fontprop)\n",
    "plt.title(\"정확도 그래프\", fontproperties=fontprop)\n",
    "\n",
    "plt.savefig(f\"./figures/{model_name}_training_graph.jpg\")\n",
    "plt.show()"
   ]
  }
 ],
 "metadata": {
  "kernelspec": {
   "display_name": "Python 3",
   "language": "python",
   "name": "python3"
  },
  "language_info": {
   "codemirror_mode": {
    "name": "ipython",
    "version": 3
   },
   "file_extension": ".py",
   "mimetype": "text/x-python",
   "name": "python",
   "nbconvert_exporter": "python",
   "pygments_lexer": "ipython3",
   "version": "3.7.9"
  }
 },
 "nbformat": 4,
 "nbformat_minor": 4
}
