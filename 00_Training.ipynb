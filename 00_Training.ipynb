{
 "cells": [
  {
   "cell_type": "markdown",
   "metadata": {},
   "source": [
    "# Stone Classifier"
   ]
  },
  {
   "cell_type": "markdown",
   "metadata": {},
   "source": [
    "### Packge Load"
   ]
  },
  {
   "cell_type": "code",
   "execution_count": 1,
   "metadata": {},
   "outputs": [
    {
     "name": "stdout",
     "output_type": "stream",
     "text": [
      "1 Physical GPUs, 1 Logical GPUs\n"
     ]
    }
   ],
   "source": [
    "import os\n",
    "import cv2 as cv\n",
    "import numpy as np\n",
    "import tensorflow as tf\n",
    "from matplotlib import pyplot as plt\n",
    "from matplotlib import font_manager as fm\n",
    "\n",
    "from tensorflow.keras import models, layers, losses, optimizers\n",
    "from tensorflow.keras.applications import MobileNetV2\n",
    "from tensorflow.keras.preprocessing.image import ImageDataGenerator\n",
    "\n",
    "tf.random.set_seed(777)\n",
    "\n",
    "gpus = tf.config.experimental.list_physical_devices('GPU')\n",
    "if gpus:\n",
    "    try:\n",
    "        for gpu in gpus:\n",
    "            tf.config.experimental.set_memory_growth(gpu, True)\n",
    "        logical_gpus = tf.config.experimental.list_logical_devices('GPU')\n",
    "        print(len(gpus), \"Physical GPUs,\", len(logical_gpus), \"Logical GPUs\")\n",
    "    except RuntimeError as e:\n",
    "        print(e)"
   ]
  },
  {
   "cell_type": "markdown",
   "metadata": {},
   "source": [
    "### Prepare Dataset"
   ]
  },
  {
   "cell_type": "code",
   "execution_count": 2,
   "metadata": {},
   "outputs": [
    {
     "name": "stdout",
     "output_type": "stream",
     "text": [
      "Found 1657 images belonging to 2 classes.\n",
      "학습용 황동석 이미지 수: 712\n",
      "학습용 황동석 아닌 이미지 수: 945\n",
      "\n",
      "Found 184 images belonging to 2 classes.\n",
      "검증용 황동석 이미지 수: 79\n",
      "검증용 황동석 아닌 이미지 수: 105\n"
     ]
    }
   ],
   "source": [
    "train_generator = ImageDataGenerator(rescale=1/255.)\n",
    "valid_generator = ImageDataGenerator(rescale=1/255.)\n",
    "\n",
    "IMG_SIZE = 224\n",
    "\n",
    "train_loader = train_generator.flow_from_directory('./data/Train', target_size=(IMG_SIZE,IMG_SIZE), \n",
    "                                                 classes=['etc', 'chalcopyrite'],\n",
    "                                                 class_mode='binary', shuffle=True, \n",
    "                                                )\n",
    "print(f\"학습용 황동석 이미지 수: {(train_loader.labels==1).sum()}\")\n",
    "print(f\"학습용 황동석 아닌 이미지 수: {(train_loader.labels==0).sum()}\\n\")\n",
    "\n",
    "valid_loader = valid_generator.flow_from_directory('./data/Test', target_size=(IMG_SIZE,IMG_SIZE), \n",
    "                                                 classes=['etc', 'chalcopyrite'],\n",
    "                                                 class_mode='binary'\n",
    "                                                )\n",
    "print(f\"검증용 황동석 이미지 수: {(valid_loader.labels==1).sum()}\")\n",
    "print(f\"검증용 황동석 아닌 이미지 수: {(valid_loader.labels==0).sum()}\")"
   ]
  },
  {
   "cell_type": "markdown",
   "metadata": {},
   "source": [
    "### Build Network"
   ]
  },
  {
   "cell_type": "code",
   "execution_count": 3,
   "metadata": {},
   "outputs": [],
   "source": [
    "base_model = MobileNetV2(weights=\"imagenet\", pooling=\"avg\")\n",
    "base_model.trainable = False\n",
    "dropout = layers.Dropout(0.5)(base_model.output)\n",
    "output = layers.Dense(1, activation='sigmoid')(dropout)\n",
    "model = models.Model(base_model.inputs, output)\n",
    "\n",
    "model.compile(optimizer='adam', loss='binary_crossentropy', metrics=['acc'])"
   ]
  },
  {
   "cell_type": "markdown",
   "metadata": {},
   "source": [
    "### Train Model"
   ]
  },
  {
   "cell_type": "code",
   "execution_count": 4,
   "metadata": {},
   "outputs": [
    {
     "name": "stdout",
     "output_type": "stream",
     "text": [
      "WARNING:tensorflow:sample_weight modes were coerced from\n",
      "  ...\n",
      "    to  \n",
      "  ['...']\n",
      "WARNING:tensorflow:sample_weight modes were coerced from\n",
      "  ...\n",
      "    to  \n",
      "  ['...']\n",
      "Train for 52 steps, validate for 6 steps\n",
      "Epoch 1/20\n",
      "52/52 [==============================] - 13s 247ms/step - loss: 0.6897 - acc: 0.5462 - val_loss: 0.6966 - val_acc: 0.5598\n",
      "Epoch 2/20\n",
      "52/52 [==============================] - 5s 99ms/step - loss: 0.6826 - acc: 0.5715 - val_loss: 0.6966 - val_acc: 0.5707\n",
      "Epoch 3/20\n",
      "52/52 [==============================] - 5s 101ms/step - loss: 0.6763 - acc: 0.5709 - val_loss: 0.6973 - val_acc: 0.5707\n",
      "Epoch 4/20\n",
      "52/52 [==============================] - 6s 115ms/step - loss: 0.6709 - acc: 0.5715 - val_loss: 0.6980 - val_acc: 0.5707\n",
      "Epoch 5/20\n",
      "52/52 [==============================] - 5s 100ms/step - loss: 0.6656 - acc: 0.5703 - val_loss: 0.6996 - val_acc: 0.5707\n",
      "Epoch 6/20\n",
      "52/52 [==============================] - 5s 95ms/step - loss: 0.6606 - acc: 0.5703 - val_loss: 0.7016 - val_acc: 0.5707\n",
      "Epoch 7/20\n",
      "52/52 [==============================] - 5s 93ms/step - loss: 0.6561 - acc: 0.5715 - val_loss: 0.7036 - val_acc: 0.5652\n",
      "Epoch 8/20\n",
      "52/52 [==============================] - 5s 94ms/step - loss: 0.6513 - acc: 0.5709 - val_loss: 0.7059 - val_acc: 0.5652\n",
      "Epoch 9/20\n",
      "52/52 [==============================] - 5s 96ms/step - loss: 0.6467 - acc: 0.5727 - val_loss: 0.7080 - val_acc: 0.5652\n",
      "Epoch 10/20\n",
      "52/52 [==============================] - 5s 96ms/step - loss: 0.6420 - acc: 0.5739 - val_loss: 0.7105 - val_acc: 0.5652\n",
      "Epoch 11/20\n",
      "52/52 [==============================] - 6s 107ms/step - loss: 0.6376 - acc: 0.5775 - val_loss: 0.7131 - val_acc: 0.5652\n",
      "Epoch 12/20\n",
      "52/52 [==============================] - 6s 117ms/step - loss: 0.6339 - acc: 0.5769 - val_loss: 0.7151 - val_acc: 0.5489\n",
      "Epoch 13/20\n",
      "52/52 [==============================] - 5s 103ms/step - loss: 0.6298 - acc: 0.5848 - val_loss: 0.7176 - val_acc: 0.5489\n",
      "Epoch 14/20\n",
      "52/52 [==============================] - 6s 106ms/step - loss: 0.6253 - acc: 0.5836 - val_loss: 0.7198 - val_acc: 0.5489\n",
      "Epoch 15/20\n",
      "52/52 [==============================] - 5s 95ms/step - loss: 0.6213 - acc: 0.5914 - val_loss: 0.7227 - val_acc: 0.5489\n",
      "Epoch 16/20\n",
      "52/52 [==============================] - 5s 92ms/step - loss: 0.6173 - acc: 0.5951 - val_loss: 0.7256 - val_acc: 0.5435\n",
      "Epoch 17/20\n",
      "52/52 [==============================] - 5s 92ms/step - loss: 0.6132 - acc: 0.5993 - val_loss: 0.7280 - val_acc: 0.5326\n",
      "Epoch 18/20\n",
      "52/52 [==============================] - 5s 99ms/step - loss: 0.6090 - acc: 0.6180 - val_loss: 0.7308 - val_acc: 0.5272\n",
      "Epoch 19/20\n",
      "52/52 [==============================] - 7s 127ms/step - loss: 0.6062 - acc: 0.6222 - val_loss: 0.7334 - val_acc: 0.5272\n",
      "Epoch 20/20\n",
      "52/52 [==============================] - 6s 116ms/step - loss: 0.6021 - acc: 0.6457 - val_loss: 0.7360 - val_acc: 0.5163\n"
     ]
    }
   ],
   "source": [
    "history = model.fit(train_loader, epochs=20, validation_data=valid_loader)\n",
    "model.save('./checkpoints/model.h5')"
   ]
  },
  {
   "cell_type": "code",
   "execution_count": 5,
   "metadata": {},
   "outputs": [
    {
     "data": {
      "image/png": "[encoded data removed]",
      "text/plain": [
       "<Figure size 1008x288 with 2 Axes>"
      ]
     },
     "metadata": {
      "needs_background": "light"
     },
     "output_type": "display_data"
    }
   ],
   "source": [
    "path = './fonts/NanumBarunGothic.ttf'\n",
    "fontprop = fm.FontProperties(fname=path, size=12)\n",
    "\n",
    "plt.figure(figsize=(14, 4))\n",
    "plt.subplot(1, 2, 1)\n",
    "plt.plot(history.history['loss'])\n",
    "plt.plot(history.history['val_loss'])\n",
    "plt.legend(['학습 데이터', '검증 데이터'], loc=0, prop=fontprop)\n",
    "plt.title(\"손실 함수 그래프\", fontproperties=fontprop)\n",
    "\n",
    "plt.subplot(1, 2, 2)\n",
    "plt.plot(history.history['acc'])\n",
    "plt.plot(history.history['val_acc'])\n",
    "plt.legend(['학습 데이터', '검증 데이터'], loc=0,  prop=fontprop)\n",
    "plt.title(\"정확도 그래프\", fontproperties=fontprop)\n",
    "\n",
    "plt.show()"
   ]
  }
 ],
 "metadata": {
  "kernelspec": {
   "display_name": "Python 3",
   "language": "python",
   "name": "python3"
  },
  "language_info": {
   "codemirror_mode": {
    "name": "ipython",
    "version": 3
   },
   "file_extension": ".py",
   "mimetype": "text/x-python",
   "name": "python",
   "nbconvert_exporter": "python",
   "pygments_lexer": "ipython3",
   "version": "3.7.9"
  }
 },
 "nbformat": 4,
 "nbformat_minor": 4
}
