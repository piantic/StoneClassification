{
 "cells": [
  {
   "cell_type": "markdown",
   "metadata": {},
   "source": [
    "# Stone Classifier"
   ]
  },
  {
   "cell_type": "markdown",
   "metadata": {},
   "source": [
    "### Packge Load"
   ]
  },
  {
   "cell_type": "code",
   "execution_count": 1,
   "metadata": {},
   "outputs": [
    {
     "name": "stdout",
     "output_type": "stream",
     "text": [
      "1 Physical GPUs, 1 Logical GPUs\n"
     ]
    }
   ],
   "source": [
    "import os\n",
    "import cv2 as cv\n",
    "import numpy as np\n",
    "import tensorflow as tf\n",
    "from matplotlib import pyplot as plt\n",
    "from matplotlib import font_manager as fm\n",
    "\n",
    "from tensorflow.keras import models, layers, losses, optimizers\n",
    "from tensorflow.keras.preprocessing.image import ImageDataGenerator\n",
    "from tensorflow.keras.applications import DenseNet121, DenseNet169, DenseNet201\n",
    "from tensorflow.keras.applications import VGG16, VGG19, Xception, InceptionResNetV2, InceptionV3\n",
    "from tensorflow.keras.applications import MobileNet, MobileNetV2, NASNetLarge, NASNetMobile\n",
    "from tensorflow.keras.applications import ResNet50, ResNet101, ResNet152, ResNet50V2, ResNet101V2, ResNet152V2\n",
    "\n",
    "model_dict = {\n",
    "    \"vgg16\": VGG16, \n",
    "    \"vgg19\": VGG19,\n",
    "    \"resnet50\": ResNet50,\n",
    "    \"resnet101\": ResNet101,\n",
    "    \"resnet152\": ResNet152,\n",
    "    \"resnet50v2\": ResNet50V2,\n",
    "    \"resnet101v2\": ResNet101V2,\n",
    "    \"resnet152v2\": ResNet152V2,\n",
    "    \"densenet121\": DenseNet121,\n",
    "    \"densenet169\": DenseNet169,\n",
    "    \"densenet201\": DenseNet201,\n",
    "    \"mobilenet\": MobileNet,\n",
    "    \"mobilenetv2\": MobileNetV2,\n",
    "    \"xception\": Xception,\n",
    "    \"inceptionresnetv2\": InceptionResNetV2,\n",
    "    \"inceptionv3\": InceptionV3, \n",
    "    \"nasnetlarge\": NASNetLarge,\n",
    "    \"nasnetmobile\": NASNetMobile    \n",
    "}\n",
    "\n",
    "tf.random.set_seed(777)\n",
    "\n",
    "gpus = tf.config.experimental.list_physical_devices('GPU')\n",
    "if gpus:\n",
    "    try:\n",
    "        for gpu in gpus:\n",
    "            tf.config.experimental.set_memory_growth(gpu, True)\n",
    "        logical_gpus = tf.config.experimental.list_logical_devices('GPU')\n",
    "        print(len(gpus), \"Physical GPUs,\", len(logical_gpus), \"Logical GPUs\")\n",
    "    except RuntimeError as e:\n",
    "        print(e)"
   ]
  },
  {
   "cell_type": "markdown",
   "metadata": {},
   "source": [
    "### Prepare Dataset"
   ]
  },
  {
   "cell_type": "code",
   "execution_count": 2,
   "metadata": {},
   "outputs": [
    {
     "name": "stdout",
     "output_type": "stream",
     "text": [
      "Found 1657 images belonging to 2 classes.\n",
      "학습용 황동석 이미지 수: 712\n",
      "학습용 황동석 아닌 이미지 수: 945\n",
      "\n",
      "Found 184 images belonging to 2 classes.\n",
      "검증용 황동석 이미지 수: 79\n",
      "검증용 황동석 아닌 이미지 수: 105\n"
     ]
    }
   ],
   "source": [
    "train_generator = ImageDataGenerator(rescale=1/255.)\n",
    "valid_generator = ImageDataGenerator(rescale=1/255.)\n",
    "\n",
    "IMG_SIZE = 299\n",
    "\n",
    "train_loader = train_generator.flow_from_directory('./data/Train', target_size=(IMG_SIZE,IMG_SIZE), \n",
    "                                                 classes=['etc', 'chalcopyrite'],\n",
    "                                                 class_mode='binary', shuffle=True, \n",
    "                                                )\n",
    "print(f\"학습용 황동석 이미지 수: {(train_loader.labels==1).sum()}\")\n",
    "print(f\"학습용 황동석 아닌 이미지 수: {(train_loader.labels==0).sum()}\\n\")\n",
    "\n",
    "valid_loader = valid_generator.flow_from_directory('./data/Test', target_size=(IMG_SIZE,IMG_SIZE), \n",
    "                                                 classes=['etc', 'chalcopyrite'],\n",
    "                                                 class_mode='binary'\n",
    "                                                )\n",
    "print(f\"검증용 황동석 이미지 수: {(valid_loader.labels==1).sum()}\")\n",
    "print(f\"검증용 황동석 아닌 이미지 수: {(valid_loader.labels==0).sum()}\")"
   ]
  },
  {
   "cell_type": "markdown",
   "metadata": {},
   "source": [
    "### Build Network"
   ]
  },
  {
   "cell_type": "code",
   "execution_count": 3,
   "metadata": {},
   "outputs": [
    {
     "name": "stderr",
     "output_type": "stream",
     "text": [
      "/opt/conda/lib/python3.7/site-packages/keras_applications/mobilenet.py:207: UserWarning: `input_shape` is undefined or non-square, or `rows` is not in [128, 160, 192, 224]. Weights for input shape (224, 224) will be loaded as the default.\n",
      "  warnings.warn('`input_shape` is undefined or non-square, '\n"
     ]
    },
    {
     "name": "stdout",
     "output_type": "stream",
     "text": [
      "Downloading data from https://github.com/fchollet/deep-learning-models/releases/download/v0.6/mobilenet_1_0_224_tf_no_top.h5\n",
      "17227776/17225924 [==============================] - 16s 1us/step\n"
     ]
    }
   ],
   "source": [
    "model_name = 'mobilenet'\n",
    "base_model = model_dict[model_name](weights=\"imagenet\", pooling=\"avg\", include_top=False)\n",
    "base_model.trainable = False\n",
    "dropout = layers.Dropout(0.5)(base_model.output)\n",
    "output = layers.Dense(1, activation='sigmoid')(dropout)\n",
    "model = models.Model(base_model.inputs, output)\n",
    "\n",
    "model.compile(optimizer='sgd', loss='binary_crossentropy', metrics=['acc'])"
   ]
  },
  {
   "cell_type": "markdown",
   "metadata": {},
   "source": [
    "### Train Model"
   ]
  },
  {
   "cell_type": "code",
   "execution_count": 4,
   "metadata": {},
   "outputs": [
    {
     "name": "stdout",
     "output_type": "stream",
     "text": [
      "WARNING:tensorflow:sample_weight modes were coerced from\n",
      "  ...\n",
      "    to  \n",
      "  ['...']\n",
      "WARNING:tensorflow:sample_weight modes were coerced from\n",
      "  ...\n",
      "    to  \n",
      "  ['...']\n",
      "Train for 52 steps, validate for 6 steps\n",
      "Epoch 1/20\n",
      "52/52 [==============================] - 13s 243ms/step - loss: 0.2537 - acc: 0.8992 - val_loss: 0.6939 - val_acc: 0.6141\n",
      "Epoch 2/20\n",
      "52/52 [==============================] - 8s 156ms/step - loss: 0.0754 - acc: 0.9777 - val_loss: 0.6661 - val_acc: 0.6196\n",
      "Epoch 3/20\n",
      "52/52 [==============================] - 8s 152ms/step - loss: 0.0464 - acc: 0.9897 - val_loss: 0.5919 - val_acc: 0.6739\n",
      "Epoch 4/20\n",
      "52/52 [==============================] - 8s 147ms/step - loss: 0.0413 - acc: 0.9916 - val_loss: 0.5729 - val_acc: 0.6848\n",
      "Epoch 5/20\n",
      "52/52 [==============================] - 10s 191ms/step - loss: 0.0308 - acc: 0.9952 - val_loss: 0.6791 - val_acc: 0.6250\n",
      "Epoch 6/20\n",
      "52/52 [==============================] - 10s 189ms/step - loss: 0.0261 - acc: 0.9940 - val_loss: 0.6505 - val_acc: 0.6522\n",
      "Epoch 7/20\n",
      "52/52 [==============================] - 8s 157ms/step - loss: 0.0251 - acc: 0.9940 - val_loss: 0.6437 - val_acc: 0.6576\n",
      "Epoch 8/20\n",
      "52/52 [==============================] - 8s 154ms/step - loss: 0.0197 - acc: 0.9964 - val_loss: 0.5972 - val_acc: 0.6739\n",
      "Epoch 9/20\n",
      "52/52 [==============================] - 8s 147ms/step - loss: 0.0178 - acc: 0.9982 - val_loss: 0.6287 - val_acc: 0.6685\n",
      "Epoch 10/20\n",
      "52/52 [==============================] - 10s 186ms/step - loss: 0.0177 - acc: 0.9946 - val_loss: 0.6344 - val_acc: 0.6630\n",
      "Epoch 11/20\n",
      "52/52 [==============================] - 8s 163ms/step - loss: 0.0161 - acc: 0.9958 - val_loss: 0.5891 - val_acc: 0.6848\n",
      "Epoch 12/20\n",
      "52/52 [==============================] - 8s 151ms/step - loss: 0.0148 - acc: 0.9994 - val_loss: 0.6700 - val_acc: 0.6576\n",
      "Epoch 13/20\n",
      "52/52 [==============================] - 7s 140ms/step - loss: 0.0136 - acc: 0.9970 - val_loss: 0.6272 - val_acc: 0.6739\n",
      "Epoch 14/20\n",
      "52/52 [==============================] - 8s 162ms/step - loss: 0.0118 - acc: 0.9988 - val_loss: 0.6634 - val_acc: 0.6630\n",
      "Epoch 15/20\n",
      "52/52 [==============================] - 10s 188ms/step - loss: 0.0129 - acc: 0.9970 - val_loss: 0.6640 - val_acc: 0.6630\n",
      "Epoch 16/20\n",
      "52/52 [==============================] - 7s 141ms/step - loss: 0.0101 - acc: 0.9988 - val_loss: 0.6703 - val_acc: 0.6630\n",
      "Epoch 17/20\n",
      "52/52 [==============================] - 7s 139ms/step - loss: 0.0108 - acc: 0.9970 - val_loss: 0.6554 - val_acc: 0.6685\n",
      "Epoch 18/20\n",
      "52/52 [==============================] - 7s 141ms/step - loss: 0.0109 - acc: 0.9988 - val_loss: 0.6838 - val_acc: 0.6630\n",
      "Epoch 19/20\n",
      "52/52 [==============================] - 10s 184ms/step - loss: 0.0111 - acc: 0.9976 - val_loss: 0.6360 - val_acc: 0.6848\n",
      "Epoch 20/20\n",
      "52/52 [==============================] - 9s 182ms/step - loss: 0.0101 - acc: 0.9976 - val_loss: 0.6424 - val_acc: 0.6848\n"
     ]
    }
   ],
   "source": [
    "history = model.fit(train_loader, epochs=20, validation_data=valid_loader)\n",
    "model.save(f'./checkpoints/{model_name}.h5')"
   ]
  },
  {
   "cell_type": "code",
   "execution_count": 6,
   "metadata": {},
   "outputs": [
    {
     "data": {
      "image/png": "[encoded data removed]",
      "text/plain": [
       "<Figure size 1008x288 with 2 Axes>"
      ]
     },
     "metadata": {
      "needs_background": "light"
     },
     "output_type": "display_data"
    }
   ],
   "source": [
    "path = './fonts/NanumBarunGothic.ttf'\n",
    "fontprop = fm.FontProperties(fname=path, size=12)\n",
    "\n",
    "plt.figure(figsize=(14, 4))\n",
    "plt.subplot(1, 2, 1)\n",
    "plt.plot(history.history['loss'])\n",
    "plt.plot(history.history['val_loss'])\n",
    "plt.legend(['학습 데이터', '검증 데이터'], loc=0, prop=fontprop)\n",
    "plt.title(\"손실 함수 그래프\", fontproperties=fontprop)\n",
    "\n",
    "plt.subplot(1, 2, 2)\n",
    "plt.plot(history.history['acc'])\n",
    "plt.plot(history.history['val_acc'])\n",
    "plt.legend(['학습 데이터', '검증 데이터'], loc=0,  prop=fontprop)\n",
    "plt.title(\"정확도 그래프\", fontproperties=fontprop)\n",
    "\n",
    "plt.savefig(f\"./figures/{model_name}_training_graph.jpg\")\n",
    "plt.show()"
   ]
  }
 ],
 "metadata": {
  "kernelspec": {
   "display_name": "Python 3",
   "language": "python",
   "name": "python3"
  },
  "language_info": {
   "codemirror_mode": {
    "name": "ipython",
    "version": 3
   },
   "file_extension": ".py",
   "mimetype": "text/x-python",
   "name": "python",
   "nbconvert_exporter": "python",
   "pygments_lexer": "ipython3",
   "version": "3.7.7"
  }
 },
 "nbformat": 4,
 "nbformat_minor": 4
}
